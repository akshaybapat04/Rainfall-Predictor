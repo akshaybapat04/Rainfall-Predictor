{
 "cells": [
  {
   "cell_type": "code",
   "execution_count": null,
   "metadata": {
    "collapsed": false,
    "deletable": true,
    "editable": true
   },
   "outputs": [],
   "source": [
    "import xgboost as xgb\n",
    "import numpy as np\n",
    "import sys\n",
    "import os\n",
    "from sklearn import model_selection\n",
    "from sklearn.datasets import dump_svmlight_file\n",
    "\n",
    "sys.path.append(r'D:\\UCI\\CS273A-ML\\HW4-code')\n",
    "import mltools as ml\n",
    "\n",
    "data_path = r'D:\\UCI\\CS273A-ML\\Project'\n",
    "X = np.genfromtxt(os.path.join(data_path, 'X_train.txt'), delimiter=None)\n",
    "Y = np.genfromtxt(os.path.join(data_path, 'Y_train.txt'), delimiter=None)\n",
    "Xte = np.genfromtxt(os.path.join(data_path, 'X_test.txt'), delimiter=None)\n",
    "# wts = np.genfromtxt('HW4-code\\weights.txt', delimiter=None)\n",
    "\n",
    "X,Y = ml.shuffleData(X,Y)\n",
    "Xtr, Xva, Ytr, Yva = ml.splitData(X, Y)"
   ]
  },
  {
   "cell_type": "code",
   "execution_count": null,
   "metadata": {
    "collapsed": false,
    "deletable": true,
    "editable": true
   },
   "outputs": [],
   "source": [
    "print(Xtr.shape, Xva.shape)"
   ]
  },
  {
   "cell_type": "code",
   "execution_count": null,
   "metadata": {
    "collapsed": false,
    "deletable": true,
    "editable": true,
    "scrolled": true
   },
   "outputs": [],
   "source": [
    "# subsample = 100000\n",
    "Xt, Yt = Xtr[:], Ytr[:] # subsample for efficiency (you can go higher)\n",
    "Xv, Yv = Xva[:], Yva[:] # subsample for efficiency (you can go higher)"
   ]
  },
  {
   "cell_type": "markdown",
   "metadata": {
    "deletable": true,
    "editable": true
   },
   "source": [
    "## Choose train and eval"
   ]
  },
  {
   "cell_type": "code",
   "execution_count": null,
   "metadata": {
    "collapsed": false,
    "deletable": true,
    "editable": true
   },
   "outputs": [],
   "source": [
    "x_train = Xt\n",
    "y_train = Yt\n",
    "x_val = Xv\n",
    "y_val = Yv\n",
    "x_test = Xte"
   ]
  },
  {
   "cell_type": "code",
   "execution_count": null,
   "metadata": {
    "collapsed": false,
    "deletable": true,
    "editable": true
   },
   "outputs": [],
   "source": [
    "# dump_svmlight_file(x_train, y_train, os.path.join(data_path, 'dtrain.svm'), zero_based=True)\n",
    "# dump_svmlight_file(x_val, y_val, os.path.join(data_path, 'dval.svm'), zero_based=True)\n",
    "\n",
    "# dtrain = xgb.DMatrix('dtrain.svm')\n",
    "# dval = xgb.DMatrix('dval.svm')\n",
    "dtrain = xgb.DMatrix(x_train, label=y_train)\n",
    "dval = xgb.DMatrix(x_val, label=y_val)"
   ]
  },
  {
   "cell_type": "code",
   "execution_count": null,
   "metadata": {
    "collapsed": true,
    "deletable": true,
    "editable": true
   },
   "outputs": [],
   "source": [
    "param = {'max_depth': 7, 'min_child_weight':2 ,'eta': 0.1, 'silent': 1, 'objective': 'binary:logistic'}\n",
    "param['nthread'] = 4\n",
    "param['eval_metric'] = 'auc'\n",
    "evallist = [(dtrain, 'train'), (dval, 'eval')]\n",
    "num_round = 5000\n",
    "early_stopping_rounds=10"
   ]
  },
  {
   "cell_type": "code",
   "execution_count": null,
   "metadata": {
    "collapsed": true,
    "deletable": true,
    "editable": true
   },
   "outputs": [],
   "source": [
    "bst = xgb.train(param, dtrain, nu6m_round, evallist, early_stopping_rounds=early_stopping_rounds)\n",
    "bst.dump_model('dump.raw.txt')"
   ]
  },
  {
   "cell_type": "code",
   "execution_count": null,
   "metadata": {
    "collapsed": false,
    "deletable": true,
    "editable": true
   },
   "outputs": [],
   "source": [
    "dtest = xgb.DMatrix(Xte)\n",
    "print(bst.best_score, bst.best_iteration, bst.best_ntree_limit)\n",
    "ypred = bst.predict(dtest, ntree_limit=bst.best_ntree_limit)\n",
    "Yte = np.vstack((np.arange(Xte.shape[0]), ypred)).T"
   ]
  },
  {
   "cell_type": "code",
   "execution_count": null,
   "metadata": {
    "collapsed": true,
    "deletable": true,
    "editable": true
   },
   "outputs": [],
   "source": [
    "\n",
    "np.savetxt(os.path.join(data_path, 'Y_submit_xgboosted_best_iter_d7.txt'), Yte, '%d, %.2f', header='ID,Prob1', comments='', delimiter=',')"
   ]
  },
  {
   "cell_type": "code",
   "execution_count": null,
   "metadata": {
    "collapsed": false,
    "deletable": true,
    "editable": true
   },
   "outputs": [],
   "source": [
    "Yte[:,1]"
   ]
  },
  {
   "cell_type": "code",
   "execution_count": null,
   "metadata": {
    "collapsed": true,
    "deletable": true,
    "editable": true
   },
   "outputs": [],
   "source": [
    "y_ = bst.predict(dtrain)"
   ]
  },
  {
   "cell_type": "markdown",
   "metadata": {
    "deletable": true,
    "editable": true
   },
   "source": [
    "[2189]\ttrain-auc:0.796306\teval-auc:0.753815 - Xt, Yt (max-depth=3)\n",
    "train-auc:0.796306\teval-auc:0.753815 - Xt_norm, Yt (max-depth=3)\n",
    "train-auc:\teval-auc: - Xt_norm, Yt (max-depth=6)\n",
    "train-auc:0.873119\teval-auc:0.780095 (.7 t-v split, max-depth=6) - NOT SUBMITTED\n",
    "[986]\ttrain-auc:0.899646\teval-auc:0.797286 (MAX-DEPTH=7)\n"
   ]
  }
 ],
 "metadata": {
  "kernelspec": {
   "display_name": "deep-learning",
   "language": "python",
   "name": "deep-learning"
  },
  "language_info": {
   "codemirror_mode": {
    "name": "ipython",
    "version": 3
   },
   "file_extension": ".py",
   "mimetype": "text/x-python",
   "name": "python",
   "nbconvert_exporter": "python",
   "pygments_lexer": "ipython3",
   "version": "3.5.4"
  }
 },
 "nbformat": 4,
 "nbformat_minor": 2
}
